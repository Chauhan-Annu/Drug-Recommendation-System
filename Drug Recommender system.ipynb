{
 "cells": [
  {
   "cell_type": "markdown",
   "id": "452f24de",
   "metadata": {},
   "source": [
    "## Project Description"
   ]
  },
  {
   "cell_type": "markdown",
   "id": "0957b966",
   "metadata": {},
   "source": [
    "Utilized patient ratings with a drug and medical condition dataset to generate treatment suggestions.\n",
    "\n",
    "Let's take a practical scenario where multiple medical practitioners have treated patients with different medical conditions with the most suitable drugs available. For every prescribed drug, the patients are diagnosed and then suggested a treatment plan, which is our experiences.\n",
    "\n",
    "The purpose of the recommendation system is to understand and find patterns with the information provided by patients during the diagnosis, and then suggest a treatment plan, which most closely matches the pattern identified by the recommendation system. \n",
    "\n",
    "At the end of this article, we are going deeper into how these recommendations work and how we can find one preferred suggestion and the next five closest suggestions for any treatment.\n"
   ]
  },
  {
   "cell_type": "markdown",
   "id": "23cbf4ee",
   "metadata": {},
   "source": [
    "## Definition"
   ]
  },
  {
   "cell_type": "markdown",
   "id": "ef116e86",
   "metadata": {},
   "source": [
    "A recommendation system suggests or predicts a user's behaviour by observing patterns of their past behaviour compared to others.\n",
    "\n",
    "In simple terms, it is a filtering engine that picks more relevant information for specific users by using all the available information. It is often used in ecommerce like Amazon, Flipkart, Youtube, and Netflix and personalized user products like Alexa and Google Home Mini.\n",
    "\n",
    "For the medical industry, where suggestions must be most accurate, a recommendation system will also take experiences into account. So, we must use all our experiences, and such applications will use every piece of information for any treatment. \n",
    "\n",
    "Recommendation systems use information like various medical conditions and their effect on each patient. They compare these patterns to every new treatment to find the closest similarity."
   ]
  },
  {
   "cell_type": "markdown",
   "id": "18261340",
   "metadata": {},
   "source": [
    "## Concepts and Technology"
   ]
  },
  {
   "cell_type": "markdown",
   "id": "b6208ab3",
   "metadata": {},
   "source": [
    "To design the recommendation system, we need a few concepts, which are listed below.\n",
    "\n",
    "1. Concepts: Pattern Recognition, Correlation, Cosine Similarity, Vector norms (L1, L2, L-Infinity)‍\n",
    "\n",
    "2. Language: Python (library: Numpy & Pandas), Scipy, Sklearn\n",
    "\n",
    "As far as the prototype development is concerned, we have support of a library (Scipy & Sklearn) that executes all the algorithms for us. All we need is a little Python and to use library functions."
   ]
  },
  {
   "cell_type": "markdown",
   "id": "ffa75070",
   "metadata": {},
   "source": [
    "## Different Approaches for Recommendation Systems"
   ]
  },
  {
   "cell_type": "markdown",
   "id": "2f9c18d5",
   "metadata": {},
   "source": [
    "Below I have listed a few filtering approaches and examples:\n",
    "<ol>\n",
    "<li>Collaborative filtering: It is based on review or response of users for any entity. Here, the suggestion is based on the highest rated item by most of the users. E.g., movie or mobile suggestions.‍</li>\n",
    "<li>Content-based filtering: It is based on the pattern of each user's past activity. Here, the suggestion is based on the most preferred by similar users. E.g., food suggestions.‍</li>\n",
    "<li>Popularity-based filtering: It is based on a pattern of popularity among all users. E.g., YouTube video suggestions</li>\n",
    "</ol>    "
   ]
  },
  {
   "cell_type": "markdown",
   "id": "734c921a",
   "metadata": {},
   "source": [
    "Based on these filtering approaches, there will be different approaches to recommender systems, which are explained below:\n",
    "<ul>\n",
    "<li>Multi-criteria recommender systems: Various conditions like age, gender, location, likes, and dislikes are used for categorization and then items are suggested. E.g., suggestion of apparel based on age and gender.‍</li>\n",
    "<li>Risk-aware recommender systems: There is always uncertainty when users use Internet applications (website or mobile). Recommending any advertisement over the Internet must consider risk and users must be aware of this. E.g., advertisement display suggestion over Internet application.</li><li>Mobile recommender systems: These are location-based suggestions that consist of users’ current location or future location and provide suggestions based on that. E.g., mostly preferred in traveling and tourism.‍</li><li>Hybrid recommender systems: These are the combination of multiple approaches for recommendations. E.g., suggestion of hotels and restaurants based on user preference and travel information.‍</li>\n",
    "<li>Collaborative and content recommender systems: These are the combination of collaborative and content-based approaches. E.g., suggestion of the highest-rated movie of users’ preference along with their watch history.</li>\n",
    "</ul>    "
   ]
  },
  {
   "cell_type": "markdown",
   "id": "03b719a2",
   "metadata": {},
   "source": [
    "## Practical Example with Implementation"
   ]
  },
  {
   "cell_type": "markdown",
   "id": "a049acdc",
   "metadata": {},
   "source": [
    "In this example, we have a sample dataset of drugs prescribed for various medical conditions and ratings given by patients. What we need here is for any medical condition we have to receive a suggestion for the most suitable prescribed drugs for treatment."
   ]
  },
  {
   "cell_type": "markdown",
   "id": "7a190f8e",
   "metadata": {},
   "source": [
    "<b>Sample Dataset: </b>\n",
    "\n",
    "<i>Below is the sample of the publicly available medical drug dataset used from the Winter 2018 Kaggle University Club Hackathon.</i>"
   ]
  },
  {
   "cell_type": "markdown",
   "id": "f4da9342",
   "metadata": {},
   "source": [
    "Sample Code: \n",
    "\n",
    "We will do this in 5 steps:\n",
    "\n",
    "1. Importing required libraries\n",
    "\n",
    "2. Reading the drugsComTest_raw.csv file and creating a pivot matrix.\n",
    "\n",
    "3. Creating a KNN model using the NearestNeighbors function with distance metric- 'cosine' & algorithm- 'brute'. Possible values for distance metric are 'cityblock', 'euclidean', 'l1', 'l2' & ‘manhattan’. Possible values for the algorithm are 'auto', 'ball_tree', 'kd_tree', 'brute' & 'cuml'.\n",
    "\n",
    "4. Selecting one medical condition randomly for which we have to suggest 5 drugs for treatment.\n",
    "\n",
    "5. Finding the 6 nearest neighbors for the sample, calling the kneighbors function with the trained KNN models created in step 3. The first k-neighbor for the sample medical condition is self with a distance of 0. The next 5 k-neighbors are drugs prescribed for the sample medical condition."
   ]
  },
  {
   "cell_type": "code",
   "execution_count": null,
   "id": "66c55f53",
   "metadata": {},
   "outputs": [],
   "source": [
    "# Step 1\n",
    "import pandas as pd\n",
    "import numpy as np\n",
    "\n",
    "from scipy.sparse import csr_matrix\n",
    "from sklearn.neighbors import NearestNeighbors\n",
    "from sklearn.preprocessing import LabelEncoder\n",
    "encoder = LabelEncoder()\n"
   ]
  },
  {
   "cell_type": "code",
   "execution_count": null,
   "id": "af264dfb",
   "metadata": {},
   "outputs": [],
   "source": [
    "# Step 2\n",
    "df = pd.read_csv(r'C:\\Users\\annuc\\Downloads\\drugsComTest_raw.csv').fillna('NA')\n",
    "df['condition_id'] = pd.Series(encoder.fit_transform(df['condition'].values), index=df.index)\n",
    "df_medical = df.filter(['drugName', 'condition', 'rating', 'condition_id'], axis=1)\n",
    "df_medical_ratings_pivot=df_medical.pivot_table(index='drugName',columns='condition_id',values='rating').fillna(0)\n",
    "df_medical_ratings_pivot_matrix = csr_matrix(df_medical_ratings_pivot.values)\n",
    "\n",
    "\n"
   ]
  },
  {
   "cell_type": "code",
   "execution_count": null,
   "id": "d7a96234",
   "metadata": {},
   "outputs": [],
   "source": [
    "# Step 3\n",
    "# distance =  [‘cityblock’, ‘cosine’, ‘euclidean’, ‘l1’, ‘l2’, ‘manhattan’]\n",
    "# algorithm = ['auto', 'ball_tree', 'kd_tree', 'brute', 'cuml']\n",
    "model_knn = NearestNeighbors(metric = 'cosine', algorithm = 'brute')\n",
    "model_knn.fit(df_medical_ratings_pivot_matrix)\n",
    "\n",
    "\n"
   ]
  },
  {
   "cell_type": "code",
   "execution_count": null,
   "id": "e9465f16",
   "metadata": {},
   "outputs": [],
   "source": [
    "# Step 4\n",
    "sample_index = np.random.choice(df_medical_ratings_pivot.shape[0])\n",
    "sample_condition = df_medical_ratings_pivot.iloc[sample_index,:].values.reshape(1, -1)\n",
    "\n",
    "\n"
   ]
  },
  {
   "cell_type": "code",
   "execution_count": 9,
   "id": "ae8d05a8",
   "metadata": {},
   "outputs": [
    {
     "name": "stdout",
     "output_type": "stream",
     "text": [
      "Recommendations for Orphenadrine:\n",
      "\n",
      "1: Amerge, with distance of 0.13907347178568452:\n",
      "2: Goody's Extra-Strength Headache Powders, with distance of 0.13907347178568452:\n",
      "3: Zolmitriptan, with distance of 0.13907347178568452:\n",
      "4: Maxalt-MLT, with distance of 0.13907347178568452:\n",
      "5: Imitrex Statdose, with distance of 0.13907347178568452:\n"
     ]
    }
   ],
   "source": [
    "# Step 5\n",
    "distances, indices = model_knn.kneighbors(sample_condition, n_neighbors = 6)\n",
    "for i in range(0, len(distances.flatten())):\n",
    "    if i == 0:\n",
    "        print('Recommendations for {0}:\\n'.format(df_medical_ratings_pivot.index[sample_index]))\n",
    "    else:\n",
    "        recommendation = df_medical_ratings_pivot.index[indices.flatten()[i]]\n",
    "        distanceFromSample = distances.flatten()[i]\n",
    "        print('{0}: {1}, with distance of {2}:'.format(i, recommendation, distanceFromSample))"
   ]
  },
  {
   "cell_type": "code",
   "execution_count": null,
   "id": "70e134dd",
   "metadata": {},
   "outputs": [],
   "source": []
  },
  {
   "cell_type": "code",
   "execution_count": null,
   "id": "1fbc6a56",
   "metadata": {},
   "outputs": [],
   "source": []
  }
 ],
 "metadata": {
  "kernelspec": {
   "display_name": "Python 3 (ipykernel)",
   "language": "python",
   "name": "python3"
  },
  "language_info": {
   "codemirror_mode": {
    "name": "ipython",
    "version": 3
   },
   "file_extension": ".py",
   "mimetype": "text/x-python",
   "name": "python",
   "nbconvert_exporter": "python",
   "pygments_lexer": "ipython3",
   "version": "3.9.13"
  }
 },
 "nbformat": 4,
 "nbformat_minor": 5
}
